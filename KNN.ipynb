{
 "cells": [
  {
   "cell_type": "code",
   "execution_count": 1,
   "id": "971e0b85-86e5-45dc-9ce4-b5a33d123933",
   "metadata": {},
   "outputs": [],
   "source": [
    "import pandas as pd\n",
    "import seaborn as sns\n",
    "from sklearn.model_selection import train_test_split\n",
    "from sklearn.preprocessing import StandardScaler\n",
    "from sklearn.neighbors import KNeighborsClassifier\n",
    "from sklearn.metrics import accuracy_score,confusion_matrix"
   ]
  },
  {
   "cell_type": "code",
   "execution_count": null,
   "id": "44c570e8-7533-4e41-9902-650af0bc4ad2",
   "metadata": {},
   "outputs": [
    {
     "data": {
      "text/html": [
       "<div>\n",
       "<style scoped>\n",
       "    .dataframe tbody tr th:only-of-type {\n",
       "        vertical-align: middle;\n",
       "    }\n",
       "\n",
       "    .dataframe tbody tr th {\n",
       "        vertical-align: top;\n",
       "    }\n",
       "\n",
       "    .dataframe thead th {\n",
       "        text-align: right;\n",
       "    }\n",
       "</style>\n",
       "<table border=\"1\" class=\"dataframe\">\n",
       "  <thead>\n",
       "    <tr style=\"text-align: right;\">\n",
       "      <th></th>\n",
       "      <th>sepallength</th>\n",
       "      <th>sepalwidth</th>\n",
       "      <th>petallength</th>\n",
       "      <th>petalwidth</th>\n",
       "      <th>class</th>\n",
       "    </tr>\n",
       "  </thead>\n",
       "  <tbody>\n",
       "    <tr>\n",
       "      <th>0</th>\n",
       "      <td>5.1</td>\n",
       "      <td>3.5</td>\n",
       "      <td>1.4</td>\n",
       "      <td>0.2</td>\n",
       "      <td>Iris-setosa</td>\n",
       "    </tr>\n",
       "    <tr>\n",
       "      <th>1</th>\n",
       "      <td>4.9</td>\n",
       "      <td>3.0</td>\n",
       "      <td>1.4</td>\n",
       "      <td>0.2</td>\n",
       "      <td>Iris-setosa</td>\n",
       "    </tr>\n",
       "    <tr>\n",
       "      <th>2</th>\n",
       "      <td>4.7</td>\n",
       "      <td>3.2</td>\n",
       "      <td>1.3</td>\n",
       "      <td>0.2</td>\n",
       "      <td>Iris-setosa</td>\n",
       "    </tr>\n",
       "    <tr>\n",
       "      <th>3</th>\n",
       "      <td>4.6</td>\n",
       "      <td>3.1</td>\n",
       "      <td>1.5</td>\n",
       "      <td>0.2</td>\n",
       "      <td>Iris-setosa</td>\n",
       "    </tr>\n",
       "    <tr>\n",
       "      <th>4</th>\n",
       "      <td>5.0</td>\n",
       "      <td>3.6</td>\n",
       "      <td>1.4</td>\n",
       "      <td>0.2</td>\n",
       "      <td>Iris-setosa</td>\n",
       "    </tr>\n",
       "  </tbody>\n",
       "</table>\n",
       "</div>"
      ],
      "text/plain": [
       "   sepallength  sepalwidth  petallength  petalwidth        class\n",
       "0          5.1         3.5          1.4         0.2  Iris-setosa\n",
       "1          4.9         3.0          1.4         0.2  Iris-setosa\n",
       "2          4.7         3.2          1.3         0.2  Iris-setosa\n",
       "3          4.6         3.1          1.5         0.2  Iris-setosa\n",
       "4          5.0         3.6          1.4         0.2  Iris-setosa"
      ]
     },
     "execution_count": 2,
     "metadata": {},
     "output_type": "execute_result"
    }
   ],
   "source": [
    "df=pd.read_csv('iris_csv.csv')\n",
    "df.head()"
   ]
  },
  {
   "cell_type": "code",
   "execution_count": 3,
   "id": "4590e2cf-4d35-42fc-980c-7746d3c3da00",
   "metadata": {},
   "outputs": [
    {
     "data": {
      "text/plain": [
       "(150, 5)"
      ]
     },
     "execution_count": 3,
     "metadata": {},
     "output_type": "execute_result"
    }
   ],
   "source": [
    "df.shape"
   ]
  },
  {
   "cell_type": "code",
   "execution_count": 4,
   "id": "b756a373-96ee-4ddc-9171-da33bba24239",
   "metadata": {},
   "outputs": [],
   "source": [
    "x_train, x_test, y_train, y_test = train_test_split(df.iloc[:,:4], df.iloc[:,4],test_size=0.3, random_state=4)"
   ]
  },
  {
   "cell_type": "code",
   "execution_count": null,
   "metadata": {},
   "outputs": [],
   "source": []
  },
  {
   "cell_type": "code",
   "execution_count": 5,
   "id": "e042c889-acfd-426a-b0d6-cbbe3fdff0ad",
   "metadata": {},
   "outputs": [
    {
     "data": {
      "text/plain": [
       "(105, 4)"
      ]
     },
     "execution_count": 5,
     "metadata": {},
     "output_type": "execute_result"
    }
   ],
   "source": [
    "x_train.shape"
   ]
  },
  {
   "cell_type": "code",
   "execution_count": 6,
   "id": "8c770e6f-fac7-4306-a7a6-ab19fcab31d0",
   "metadata": {},
   "outputs": [],
   "source": [
    "scaler=StandardScaler()\n",
    "x_train=scaler.fit_transform(x_train)\n",
    "x_test=scaler.transform(x_test)"
   ]
  },
  {
   "cell_type": "code",
   "execution_count": 7,
   "id": "cb814232-7e00-4f6d-ac50-0dbc3e03bcc3",
   "metadata": {
    "scrolled": true
   },
   "outputs": [
    {
     "data": {
      "text/plain": [
       "array([[-1.98167581, -0.11196264, -1.6774331 , -1.59956235],\n",
       "       [-0.22576054,  3.24691664, -1.4377998 , -1.18991833],\n",
       "       [ 0.0250845 , -0.11196264,  0.17972497,  0.31210973],\n",
       "       [ 0.27592954, -0.11196264,  0.41935827,  0.17556172],\n",
       "       [ 0.77761962, -0.11196264,  0.9585332 ,  0.72175374],\n",
       "       [-0.85287313,  1.0876371 , -1.4377998 , -1.46301434],\n",
       "       [-0.35118305, -1.31156239,  0.        , -0.23408229],\n",
       "       [ 2.28268986, -1.07164244,  1.79724974,  1.40449377],\n",
       "       [ 0.52677458,  0.84771715,  1.01844152,  1.54104177],\n",
       "       [ 0.40135206, -0.35188259,  0.2396333 ,  0.03901372],\n",
       "       [-0.22576054, -0.35188259,  0.17972497,  0.03901372],\n",
       "       [-1.10371817,  1.0876371 , -1.37789147, -0.91682232],\n",
       "       [-0.35118305, -0.35188259, -0.17972497,  0.03901372],\n",
       "       [ 0.15050702, -2.03132223,  0.65899157,  0.31210973],\n",
       "       [-0.47660557, -1.07164244,  0.29954162, -0.09753429],\n",
       "       [-1.60540825,  0.84771715, -1.49770812, -1.32646633],\n",
       "       [-0.35118305, -0.11196264,  0.11981665,  0.03901372],\n",
       "       [-0.97829565,  0.84771715, -1.4377998 , -1.46301434],\n",
       "       [ 0.6521971 , -0.35188259,  0.2396333 ,  0.03901372],\n",
       "       [ 1.15388718, -0.11196264,  0.9585332 ,  1.13139776],\n",
       "       [ 1.02846466, -0.11196264,  0.65899157,  0.58520574],\n",
       "       [ 0.77761962,  0.36787725,  0.7188999 ,  0.99484975],\n",
       "       [ 0.15050702,  0.84771715,  0.35944995,  0.44865773],\n",
       "       [-1.22914069,  0.12795731, -1.4377998 , -1.59956235],\n",
       "       [-1.22914069, -1.31156239,  0.35944995,  0.58520574],\n",
       "       [ 1.2793097 ,  0.36787725,  1.07834985,  1.40449377],\n",
       "       [-0.60202809,  0.84771715, -1.4377998 , -1.18991833],\n",
       "       [-0.47660557, -1.55148233, -0.05990832, -0.23408229],\n",
       "       [ 0.52677458,  0.6077972 ,  1.25807482,  1.67758978],\n",
       "       [-1.10371817,  1.32755705, -1.49770812, -1.46301434],\n",
       "       [ 0.27592954, -0.11196264,  0.59908325,  0.72175374],\n",
       "       [ 0.77761962, -0.59180254,  0.41935827,  0.31210973],\n",
       "       [ 0.0250845 , -0.11196264,  0.7188999 ,  0.72175374],\n",
       "       [ 0.52677458, -1.31156239,  0.59908325,  0.31210973],\n",
       "       [-1.22914069,  0.12795731, -1.4377998 , -1.59956235],\n",
       "       [ 0.27592954, -1.07164244,  1.01844152,  0.17556172],\n",
       "       [ 0.6521971 ,  0.36787725,  0.35944995,  0.31210973],\n",
       "       [ 1.53015474, -0.11196264,  1.1981665 ,  1.13139776],\n",
       "       [-0.47660557,  1.0876371 , -1.55761645, -1.46301434],\n",
       "       [ 0.6521971 , -0.83172249,  0.83871655,  0.85830175],\n",
       "       [-0.47660557, -1.79140228,  0.05990832,  0.03901372],\n",
       "       [ 1.2793097 ,  0.12795731,  0.89862487,  1.13139776],\n",
       "       [-0.10033802, -0.83172249,  0.        , -0.09753429],\n",
       "       [-0.10033802, -0.83172249,  0.7188999 ,  0.85830175],\n",
       "       [ 0.27592954, -0.59180254,  0.05990832,  0.03901372],\n",
       "       [ 0.0250845 ,  0.36787725,  0.53917492,  0.72175374],\n",
       "       [ 0.40135206,  0.84771715,  0.89862487,  1.40449377],\n",
       "       [-0.22576054, -0.59180254,  0.11981665,  0.03901372],\n",
       "       [ 0.90304214, -0.11196264,  0.29954162,  0.17556172],\n",
       "       [-0.10033802, -0.59180254,  0.7188999 ,  1.54104177],\n",
       "       [ 0.15050702, -2.03132223,  0.05990832, -0.3706303 ],\n",
       "       [-0.10033802, -0.83172249,  0.11981665, -0.3706303 ],\n",
       "       [-1.60540825,  1.32755705, -1.73734142, -1.46301434],\n",
       "       [ 1.02846466,  0.12795731,  1.01844152,  1.54104177],\n",
       "       [-0.97829565,  0.6077972 , -1.31798315, -1.05337032],\n",
       "       [ 1.15388718, -0.59180254,  0.53917492,  0.17556172],\n",
       "       [-0.72745061,  1.567477  , -1.4377998 , -1.46301434],\n",
       "       [-0.85287313, -0.83172249,  0.        ,  0.17556172],\n",
       "       [ 0.27592954, -0.59180254,  0.4792666 , -0.09753429],\n",
       "       [-0.47660557, -1.31156239,  0.05990832,  0.03901372],\n",
       "       [-0.47660557, -1.55148233, -0.11981665, -0.3706303 ],\n",
       "       [-0.97829565,  1.0876371 , -1.49770812, -1.32646633],\n",
       "       [ 1.02846466, -0.11196264,  0.77880822,  1.40449377],\n",
       "       [ 0.15050702, -0.11196264,  0.53917492,  0.72175374],\n",
       "       [-0.22576054, -0.11196264,  0.17972497, -0.09753429],\n",
       "       [-0.97829565, -1.31156239, -0.53917492, -0.23408229],\n",
       "       [-0.22576054, -1.07164244, -0.2396333 , -0.3706303 ],\n",
       "       [-1.60540825,  0.12795731, -1.4377998 , -1.46301434],\n",
       "       [-0.85287313,  0.84771715, -1.49770812, -1.46301434],\n",
       "       [ 1.2793097 ,  0.12795731,  0.7188999 ,  1.40449377],\n",
       "       [-0.35118305, -0.59180254,  0.59908325,  0.99484975],\n",
       "       [-0.47660557,  2.76707674, -1.49770812, -1.46301434],\n",
       "       [-1.35456321, -0.11196264, -1.49770812, -1.32646633],\n",
       "       [-1.85625329,  0.36787725, -1.55761645, -1.46301434],\n",
       "       [ 0.6521971 ,  0.36787725,  0.83871655,  1.40449377],\n",
       "       [-1.10371817,  1.0876371 , -1.55761645, -1.32646633],\n",
       "       [-0.85287313,  2.52715679, -1.4377998 , -1.59956235],\n",
       "       [ 0.52677458, -1.31156239,  0.65899157,  0.85830175],\n",
       "       [ 1.15388718,  0.36787725,  1.1981665 ,  1.40449377],\n",
       "       [-0.35118305, -0.11196264,  0.35944995,  0.31210973],\n",
       "       [-1.10371817,  0.6077972 , -1.49770812, -1.46301434],\n",
       "       [-1.85625329, -0.35188259, -1.49770812, -1.46301434],\n",
       "       [-1.35456321,  0.12795731, -1.37789147, -1.46301434],\n",
       "       [ 2.28268986,  1.80739695,  1.6774331 ,  1.26794576],\n",
       "       [ 0.52677458,  0.6077972 ,  0.4792666 ,  0.44865773],\n",
       "       [-0.97829565,  1.567477  , -1.4377998 , -1.18991833],\n",
       "       [-0.97829565,  1.0876371 , -1.49770812, -1.46301434],\n",
       "       [ 2.5335349 ,  1.80739695,  1.49770812,  0.99484975],\n",
       "       [ 1.2793097 ,  0.12795731,  0.59908325,  0.31210973],\n",
       "       [ 0.40135206, -0.59180254,  0.53917492,  0.72175374],\n",
       "       [-1.85625329, -0.11196264, -1.55761645, -1.46301434],\n",
       "       [-0.97829565,  1.80739695, -1.1981665 , -1.18991833],\n",
       "       [ 0.77761962, -0.11196264,  0.77880822,  0.99484975],\n",
       "       [-1.22914069, -1.55148233, -0.35944995, -0.3706303 ],\n",
       "       [-0.22576054, -0.59180254,  0.35944995,  0.03901372],\n",
       "       [-0.35118305, -0.83172249,  0.17972497,  0.03901372],\n",
       "       [ 1.65557726,  1.32755705,  1.31798315,  1.67758978],\n",
       "       [ 0.52677458, -0.35188259,  1.01844152,  0.72175374],\n",
       "       [ 0.90304214, -0.35188259,  0.41935827,  0.03901372],\n",
       "       [ 0.6521971 ,  0.12795731,  0.9585332 ,  0.72175374],\n",
       "       [ 1.40473222,  0.36787725,  0.4792666 ,  0.17556172],\n",
       "       [ 0.52677458, -1.79140228,  0.29954162,  0.03901372],\n",
       "       [ 0.77761962, -0.11196264,  1.13825817,  1.26794576],\n",
       "       [ 1.65557726, -0.11196264,  1.13825817,  0.44865773],\n",
       "       [ 2.28268986, -0.59180254,  1.6774331 ,  0.99484975]])"
      ]
     },
     "execution_count": 7,
     "metadata": {},
     "output_type": "execute_result"
    }
   ],
   "source": [
    "x_train"
   ]
  },
  {
   "cell_type": "code",
   "execution_count": 8,
   "id": "f941970f-5d93-40b4-b8ce-f9f6d00d2207",
   "metadata": {},
   "outputs": [
    {
     "data": {
      "text/html": [
       "<style>#sk-container-id-1 {color: black;background-color: white;}#sk-container-id-1 pre{padding: 0;}#sk-container-id-1 div.sk-toggleable {background-color: white;}#sk-container-id-1 label.sk-toggleable__label {cursor: pointer;display: block;width: 100%;margin-bottom: 0;padding: 0.3em;box-sizing: border-box;text-align: center;}#sk-container-id-1 label.sk-toggleable__label-arrow:before {content: \"▸\";float: left;margin-right: 0.25em;color: #696969;}#sk-container-id-1 label.sk-toggleable__label-arrow:hover:before {color: black;}#sk-container-id-1 div.sk-estimator:hover label.sk-toggleable__label-arrow:before {color: black;}#sk-container-id-1 div.sk-toggleable__content {max-height: 0;max-width: 0;overflow: hidden;text-align: left;background-color: #f0f8ff;}#sk-container-id-1 div.sk-toggleable__content pre {margin: 0.2em;color: black;border-radius: 0.25em;background-color: #f0f8ff;}#sk-container-id-1 input.sk-toggleable__control:checked~div.sk-toggleable__content {max-height: 200px;max-width: 100%;overflow: auto;}#sk-container-id-1 input.sk-toggleable__control:checked~label.sk-toggleable__label-arrow:before {content: \"▾\";}#sk-container-id-1 div.sk-estimator input.sk-toggleable__control:checked~label.sk-toggleable__label {background-color: #d4ebff;}#sk-container-id-1 div.sk-label input.sk-toggleable__control:checked~label.sk-toggleable__label {background-color: #d4ebff;}#sk-container-id-1 input.sk-hidden--visually {border: 0;clip: rect(1px 1px 1px 1px);clip: rect(1px, 1px, 1px, 1px);height: 1px;margin: -1px;overflow: hidden;padding: 0;position: absolute;width: 1px;}#sk-container-id-1 div.sk-estimator {font-family: monospace;background-color: #f0f8ff;border: 1px dotted black;border-radius: 0.25em;box-sizing: border-box;margin-bottom: 0.5em;}#sk-container-id-1 div.sk-estimator:hover {background-color: #d4ebff;}#sk-container-id-1 div.sk-parallel-item::after {content: \"\";width: 100%;border-bottom: 1px solid gray;flex-grow: 1;}#sk-container-id-1 div.sk-label:hover label.sk-toggleable__label {background-color: #d4ebff;}#sk-container-id-1 div.sk-serial::before {content: \"\";position: absolute;border-left: 1px solid gray;box-sizing: border-box;top: 0;bottom: 0;left: 50%;z-index: 0;}#sk-container-id-1 div.sk-serial {display: flex;flex-direction: column;align-items: center;background-color: white;padding-right: 0.2em;padding-left: 0.2em;position: relative;}#sk-container-id-1 div.sk-item {position: relative;z-index: 1;}#sk-container-id-1 div.sk-parallel {display: flex;align-items: stretch;justify-content: center;background-color: white;position: relative;}#sk-container-id-1 div.sk-item::before, #sk-container-id-1 div.sk-parallel-item::before {content: \"\";position: absolute;border-left: 1px solid gray;box-sizing: border-box;top: 0;bottom: 0;left: 50%;z-index: -1;}#sk-container-id-1 div.sk-parallel-item {display: flex;flex-direction: column;z-index: 1;position: relative;background-color: white;}#sk-container-id-1 div.sk-parallel-item:first-child::after {align-self: flex-end;width: 50%;}#sk-container-id-1 div.sk-parallel-item:last-child::after {align-self: flex-start;width: 50%;}#sk-container-id-1 div.sk-parallel-item:only-child::after {width: 0;}#sk-container-id-1 div.sk-dashed-wrapped {border: 1px dashed gray;margin: 0 0.4em 0.5em 0.4em;box-sizing: border-box;padding-bottom: 0.4em;background-color: white;}#sk-container-id-1 div.sk-label label {font-family: monospace;font-weight: bold;display: inline-block;line-height: 1.2em;}#sk-container-id-1 div.sk-label-container {text-align: center;}#sk-container-id-1 div.sk-container {/* jupyter's `normalize.less` sets `[hidden] { display: none; }` but bootstrap.min.css set `[hidden] { display: none !important; }` so we also need the `!important` here to be able to override the default hidden behavior on the sphinx rendered scikit-learn.org. See: https://github.com/scikit-learn/scikit-learn/issues/21755 */display: inline-block !important;position: relative;}#sk-container-id-1 div.sk-text-repr-fallback {display: none;}</style><div id=\"sk-container-id-1\" class=\"sk-top-container\"><div class=\"sk-text-repr-fallback\"><pre>KNeighborsClassifier(n_neighbors=4)</pre><b>In a Jupyter environment, please rerun this cell to show the HTML representation or trust the notebook. <br />On GitHub, the HTML representation is unable to render, please try loading this page with nbviewer.org.</b></div><div class=\"sk-container\" hidden><div class=\"sk-item\"><div class=\"sk-estimator sk-toggleable\"><input class=\"sk-toggleable__control sk-hidden--visually\" id=\"sk-estimator-id-1\" type=\"checkbox\" checked><label for=\"sk-estimator-id-1\" class=\"sk-toggleable__label sk-toggleable__label-arrow\">KNeighborsClassifier</label><div class=\"sk-toggleable__content\"><pre>KNeighborsClassifier(n_neighbors=4)</pre></div></div></div></div></div>"
      ],
      "text/plain": [
       "KNeighborsClassifier(n_neighbors=4)"
      ]
     },
     "execution_count": 8,
     "metadata": {},
     "output_type": "execute_result"
    }
   ],
   "source": [
    "knn=KNeighborsClassifier(n_neighbors=4)\n",
    "knn.fit(x_train,y_train)"
   ]
  },
  {
   "cell_type": "code",
   "execution_count": 9,
   "id": "58ecadbf-fa27-4b70-b48b-cbac4d56e096",
   "metadata": {},
   "outputs": [
    {
     "data": {
      "text/plain": [
       "0.9555555555555556"
      ]
     },
     "execution_count": 9,
     "metadata": {},
     "output_type": "execute_result"
    }
   ],
   "source": [
    "y_pred=knn.predict(x_test)\n",
    "accuracy_score(y_test,y_pred)"
   ]
  },
  {
   "cell_type": "code",
   "execution_count": 10,
   "id": "76525193-f4bd-4e51-9f52-54b551b72f42",
   "metadata": {},
   "outputs": [
    {
     "data": {
      "text/plain": [
       "<Axes: >"
      ]
     },
     "execution_count": 10,
     "metadata": {},
     "output_type": "execute_result"
    },
    {
     "data": {
      "image/png": "[encoded data removed]",
      "text/plain": [
       "<Figure size 640x480 with 2 Axes>"
      ]
     },
     "metadata": {},
     "output_type": "display_data"
    }
   ],
   "source": [
    "cm=confusion_matrix(y_test,y_pred)\n",
    "sns.heatmap(cm,annot=True)"
   ]
  },
  {
   "cell_type": "code",
   "execution_count": null,
   "id": "e95c6598-e62a-4107-a4cf-7377f968bf70",
   "metadata": {},
   "outputs": [],
   "source": []
  }
 ],
 "metadata": {
  "kernelspec": {
   "display_name": "Python 3 (ipykernel)",
   "language": "python",
   "name": "python3"
  },
  "language_info": {
   "codemirror_mode": {
    "name": "ipython",
    "version": 3
   },
   "file_extension": ".py",
   "mimetype": "text/x-python",
   "name": "python",
   "nbconvert_exporter": "python",
   "pygments_lexer": "ipython3",
   "version": "3.11.7"
  }
 },
 "nbformat": 4,
 "nbformat_minor": 5
}
