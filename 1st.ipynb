{
 "cells": [
  {
   "cell_type": "code",
   "execution_count": 5,
   "id": "8bf67783-286e-4a47-8992-4f40e0d9055b",
   "metadata": {},
   "outputs": [
    {
     "name": "stdout",
     "output_type": "stream",
     "text": [
      "Collecting numpy\n",
      "  Downloading numpy-2.2.3-cp313-cp313-win_amd64.whl.metadata (60 kB)\n",
      "Downloading numpy-2.2.3-cp313-cp313-win_amd64.whl (12.6 MB)\n",
      "   ---------------------------------------- 0.0/12.6 MB ? eta -:--:--\n",
      "   ---------------------------------------- 0.0/12.6 MB ? eta -:--:--\n",
      "    --------------------------------------- 0.3/12.6 MB ? eta -:--:--\n",
      "   --- ------------------------------------ 1.0/12.6 MB 3.3 MB/s eta 0:00:04\n",
      "   -------- ------------------------------- 2.6/12.6 MB 5.0 MB/s eta 0:00:03\n",
      "   ------------ --------------------------- 3.9/12.6 MB 5.3 MB/s eta 0:00:02\n",
      "   ----------------- ---------------------- 5.5/12.6 MB 5.7 MB/s eta 0:00:02\n",
      "   ----------------------- ---------------- 7.3/12.6 MB 6.3 MB/s eta 0:00:01\n",
      "   --------------------------- ------------ 8.7/12.6 MB 6.6 MB/s eta 0:00:01\n",
      "   ---------------------------------- ----- 11.0/12.6 MB 7.0 MB/s eta 0:00:01\n",
      "   ---------------------------------------  12.3/12.6 MB 6.9 MB/s eta 0:00:01\n",
      "   ---------------------------------------- 12.6/12.6 MB 6.4 MB/s eta 0:00:00\n",
      "Installing collected packages: numpy\n",
      "Successfully installed numpy-2.2.3\n",
      "Note: you may need to restart the kernel to use updated packages.\n"
     ]
    }
   ],
   "source": [
    "pip install numpy"
   ]
  },
  {
   "cell_type": "code",
   "execution_count": 6,
   "id": "8d83c482-1a56-42ac-beae-64db77a26b33",
   "metadata": {},
   "outputs": [],
   "source": [
    "import numpy as np\n"
   ]
  },
  {
   "cell_type": "code",
   "execution_count": 7,
   "id": "34f769b4-6102-4abb-ab64-e9cb23dc95b1",
   "metadata": {},
   "outputs": [],
   "source": [
    "arr=np.array([1,2,3,4,5])"
   ]
  },
  {
   "cell_type": "code",
   "execution_count": 8,
   "id": "123b4122-a3c5-45b8-ad82-4b5e8753d895",
   "metadata": {},
   "outputs": [
    {
     "name": "stdout",
     "output_type": "stream",
     "text": [
      "[1 2 3 4 5]\n"
     ]
    }
   ],
   "source": [
    "print(arr)"
   ]
  },
  {
   "cell_type": "code",
   "execution_count": 9,
   "id": "d06c228b-0d2a-4575-95f5-943571b1974f",
   "metadata": {},
   "outputs": [],
   "source": [
    "arr1=np.array([[1,2,3],[4,5,6],[7,8,9]])"
   ]
  },
  {
   "cell_type": "code",
   "execution_count": 10,
   "id": "9a9171e6-930f-46f8-ac4a-198b51f42b01",
   "metadata": {},
   "outputs": [
    {
     "name": "stdout",
     "output_type": "stream",
     "text": [
      "[[1 2 3]\n",
      " [4 5 6]\n",
      " [7 8 9]]\n"
     ]
    }
   ],
   "source": [
    "print(arr1)"
   ]
  },
  {
   "cell_type": "code",
   "execution_count": 11,
   "id": "22359123-5c47-4162-bb74-10bd3466f225",
   "metadata": {},
   "outputs": [
    {
     "name": "stdout",
     "output_type": "stream",
     "text": [
      "(5,)\n"
     ]
    }
   ],
   "source": [
    "print(arr.shape)"
   ]
  },
  {
   "cell_type": "code",
   "execution_count": 12,
   "id": "d8a0bc27-9f04-42b0-8782-5f489278f391",
   "metadata": {},
   "outputs": [
    {
     "name": "stdout",
     "output_type": "stream",
     "text": [
      "(3, 3)\n"
     ]
    }
   ],
   "source": [
    "print(arr1.shape)"
   ]
  },
  {
   "cell_type": "code",
   "execution_count": 14,
   "id": "5e78f18d-c8f8-4f9b-ab1d-10b2abe94a50",
   "metadata": {},
   "outputs": [
    {
     "name": "stdout",
     "output_type": "stream",
     "text": [
      "2\n"
     ]
    }
   ],
   "source": [
    "print(arr1.ndim)"
   ]
  },
  {
   "cell_type": "code",
   "execution_count": 15,
   "id": "fb8b4d6f-9b5c-48bc-9cc8-467c96772c74",
   "metadata": {},
   "outputs": [
    {
     "name": "stdout",
     "output_type": "stream",
     "text": [
      "5\n"
     ]
    }
   ],
   "source": [
    "print(arr.size)"
   ]
  },
  {
   "cell_type": "code",
   "execution_count": 16,
   "id": "4cfd1d40-7cf8-4ce9-a356-9281a5c73886",
   "metadata": {},
   "outputs": [
    {
     "name": "stdout",
     "output_type": "stream",
     "text": [
      "[0. 0. 0.]\n"
     ]
    }
   ],
   "source": [
    "a=np.zeros(3)\n",
    "print(a)"
   ]
  },
  {
   "cell_type": "code",
   "execution_count": 19,
   "id": "fba73e55-76b7-4164-8723-a1dbd816f5f8",
   "metadata": {},
   "outputs": [
    {
     "name": "stdout",
     "output_type": "stream",
     "text": [
      "[[1. 1. 1.]\n",
      " [1. 1. 1.]\n",
      " [1. 1. 1.]]\n"
     ]
    }
   ],
   "source": [
    "b=np.ones((3,3))\n",
    "print(b)"
   ]
  },
  {
   "cell_type": "code",
   "execution_count": 20,
   "id": "4959691d-7562-401e-926f-83f641a2041f",
   "metadata": {},
   "outputs": [
    {
     "name": "stdout",
     "output_type": "stream",
     "text": [
      "[0 0 0 0 0 0 0 0 0 0]\n"
     ]
    }
   ],
   "source": [
    "c=np.zeros(10,dtype=int)\n",
    "print(c)"
   ]
  },
  {
   "cell_type": "code",
   "execution_count": 21,
   "id": "5564ee99-9b73-4de9-b467-8a1b0a2332ba",
   "metadata": {},
   "outputs": [
    {
     "name": "stdout",
     "output_type": "stream",
     "text": [
      "[[26122004 26122004 26122004]\n",
      " [26122004 26122004 26122004]\n",
      " [26122004 26122004 26122004]]\n"
     ]
    }
   ],
   "source": [
    "d=np.full((3,3),26122004)\n",
    "print(d)"
   ]
  },
  {
   "cell_type": "code",
   "execution_count": 22,
   "id": "8ac5c230-48ca-4dc3-9c38-5b413ea185e6",
   "metadata": {},
   "outputs": [
    {
     "name": "stdout",
     "output_type": "stream",
     "text": [
      "[ 1  3  5  7  9 11 13 15 17 19]\n"
     ]
    }
   ],
   "source": [
    "e=np.arange(1,20,2)\n",
    "print(e)"
   ]
  },
  {
   "cell_type": "code",
   "execution_count": 36,
   "id": "fb69b311-4d5c-4c49-b7d4-c6025680846d",
   "metadata": {},
   "outputs": [
    {
     "name": "stdout",
     "output_type": "stream",
     "text": [
      "[[2 7 9]\n",
      " [2 1 4]\n",
      " [1 5 4]]\n",
      "[[2 7 9]\n",
      " [2 1 4]]\n",
      "[[2 7 9]]\n"
     ]
    }
   ],
   "source": [
    "d=np.random.randint(1,10,(3,3))\n",
    "print(d)\n",
    "print(d[:2,:3])\n",
    "print(d[:1])"
   ]
  },
  {
   "cell_type": "code",
   "execution_count": 33,
   "id": "33e87add-96aa-4fdc-b8d6-fda378b374f4",
   "metadata": {},
   "outputs": [
    {
     "name": "stdout",
     "output_type": "stream",
     "text": [
      "[5 6 6 8 8 4]\n",
      "4\n",
      "int32\n",
      "[5 6 6 8]\n"
     ]
    }
   ],
   "source": [
    "x1=np.random.randint(10,size=6)\n",
    "print(x1)\n",
    "print(x1[-1])\n",
    "print(x1.dtype)\n",
    "print(x1[:4])"
   ]
  },
  {
   "cell_type": "code",
   "execution_count": null,
   "id": "9d2c3f85-4b4b-4427-a065-4210ad35a3e2",
   "metadata": {},
   "outputs": [],
   "source": []
  }
 ],
 "metadata": {
  "kernelspec": {
   "display_name": "Python 3 (ipykernel)",
   "language": "python",
   "name": "python3"
  },
  "language_info": {
   "codemirror_mode": {
    "name": "ipython",
    "version": 3
   },
   "file_extension": ".py",
   "mimetype": "text/x-python",
   "name": "python",
   "nbconvert_exporter": "python",
   "pygments_lexer": "ipython3",
   "version": "3.13.2"
  }
 },
 "nbformat": 4,
 "nbformat_minor": 5
}
